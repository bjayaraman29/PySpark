{
 "cells": [
  {
   "cell_type": "code",
   "execution_count": 1,
   "id": "1983f9f0",
   "metadata": {},
   "outputs": [],
   "source": [
    "from pyspark.sql import SparkSession"
   ]
  },
  {
   "cell_type": "code",
   "execution_count": 2,
   "id": "3a1741f5",
   "metadata": {},
   "outputs": [],
   "source": [
    "spark = SparkSession\\\n",
    "    .builder\\\n",
    "    .appName(\"Chess\")\\\n",
    "    .master(\"local[3]\")\\\n",
    "    .getOrCreate()"
   ]
  },
  {
   "cell_type": "markdown",
   "id": "57ee8a69",
   "metadata": {},
   "source": [
    "# chess game .csv file data set analysis "
   ]
  },
  {
   "cell_type": "code",
   "execution_count": 3,
   "id": "c53f5dbb",
   "metadata": {},
   "outputs": [
    {
     "name": "stdout",
     "output_type": "stream",
     "text": [
      "+--------+-----+----------+------------+-----+--------------+------+--------------+------------------+------------+------------------+------------+--------------------+-----------+--------------------+-----------+\n",
      "|      id|rated|created_at|last_move_at|turns|victory_status|winner|increment_code|          white_id|white_rating|          black_id|black_rating|               moves|opening_eco|        opening_name|opening_ply|\n",
      "+--------+-----+----------+------------+-----+--------------+------+--------------+------------------+------------+------------------+------------+--------------------+-----------+--------------------+-----------+\n",
      "|TZJHLljE|false|1.50421E12|  1.50421E12|   13|     outoftime| white|          15+2|          bourgris|        1500|              a-00|        1191|d4 d5 c4 c6 cxd5 ...|        D10|Slav Defense: Exc...|          5|\n",
      "|l1NXvwaE| true|1.50413E12|  1.50413E12|   16|        resign| black|          5+10|              a-00|        1322|         skinnerua|        1261|d4 Nc6 e4 e5 f4 f...|        B00|Nimzowitsch Defen...|          4|\n",
      "|mIICvQHh| true|1.50413E12|  1.50413E12|   61|          mate| white|          5+10|            ischia|        1496|              a-00|        1500|e4 e5 d3 d6 Be3 c...|        C20|King's Pawn Game:...|          3|\n",
      "|kWKvrqYL| true|1.50411E12|  1.50411E12|   61|          mate| white|          20+0|     daniamurashov|        1439|      adivanov2009|        1454|d4 d5 Nf3 Bf5 Nc3...|        D02|Queen's Pawn Game...|          3|\n",
      "|9tXo1AUZ| true|1.50403E12|  1.50403E12|   95|          mate| white|          30+3|         nik221107|        1523|      adivanov2009|        1469|e4 e5 Nf3 d6 d4 N...|        C41|    Philidor Defense|          5|\n",
      "|MsoDV9wj|false|1.50424E12|  1.50424E12|    5|          draw|  draw|          10+0|         trelynn17|        1250|     franklin14532|        1002|    e4 c5 Nf3 Qa5 a3|        B27|Sicilian Defense:...|          4|\n",
      "|qwU9rasv| true|1.50423E12|  1.50423E12|   33|        resign| white|          10+0|           capa_jr|        1520|daniel_likes_chess|        1423|d4 d5 e4 dxe4 Nc3...|        D00|Blackmar-Diemer G...|         10|\n",
      "|RVN0N3VK|false|1.50368E12|  1.50368E12|    9|        resign| black|         15+30|daniel_likes_chess|        1413|          soultego|        2108|e4 Nc6 d4 e5 d5 N...|        B00|Nimzowitsch Defen...|          5|\n",
      "|dwF3DJHO| true|1.50351E12|  1.50351E12|   66|        resign| black|          15+0|         ehabfanri|        1439|daniel_likes_chess|        1392|e4 e5 Bc4 Nc6 Nf3...|        C50|Italian Game: Sch...|          6|\n",
      "|afoMwnLg| true|1.50344E12|  1.50344E12|  119|          mate| white|          10+0|daniel_likes_chess|        1381|           mirco25|        1209|e4 d5 exd5 Qxd5 N...|        B01|Scandinavian Defe...|          4|\n",
      "|HgKLWPsz|false|1.50335E12|  1.50335E12|   39|          mate| white|         20+60|daniel_likes_chess|        1381|          anaissac|        1272|e3 e6 d4 d6 Bd3 c...|        A00|Van't Kruijs Opening|          1|\n",
      "|Vf5fKWzI|false|1.50335E12|  1.50335E12|   38|        resign| black|         20+60|daniel_likes_chess|        1381|         subham777|        1867|e4 e6 d4 d5 e5 c5...|        C02|French Defense: A...|          9|\n",
      "|HRti5mKv|false|1.50335E12|  1.50335E12|   60|        resign| black|          5+40|daniel_likes_chess|        1381|     roman12342005|        1936|e4 e6 Nf3 d5 exd5...|        C00|French Defense: K...|          3|\n",
      "|2fEjSei6|false|1.50334E12|  1.50334E12|   31|        resign| black|           8+0|daniel_likes_chess|        1381|            alkhan|        1607|e4 e6 Qh5 g6 Qe5 ...|        C00|   French Defense #2|          2|\n",
      "|u7i6dOaJ|false|1.50409E12|   1.5041E12|   31|          mate| white|         15+15| shivangithegenius|        1094|     sureka_akshat|        1141|e4 e5 Nf3 Nc6 Bc4...|        C50|Four Knights Game...|          8|\n",
      "|guanvMR5|false|1.50409E12|  1.50409E12|   43|        resign| black|         15+15|     sureka_akshat|        1141| shivangithegenius|        1094|e4 e5 Nf3 Nc6 Bc4...|        C57|Italian Game: Two...|          7|\n",
      "|PmpkWkmm|false|1.50409E12|  1.50409E12|   52|        resign| black|         15+15| shivangithegenius|        1094|     sureka_akshat|        1141|e4 e5 Nf3 Nc6 Bc4...|        C50|Four Knights Game...|          8|\n",
      "|EwaK0IsE|false|1.50401E12|  1.50401E12|   66|          mate| black|         15+16|     sureka_akshat|        1141| shivangithegenius|        1094|e4 e5 Nf3 Nc6 Bc4...|        C50|Four Knights Game...|          8|\n",
      "|yrSDozT3|false|1.50401E12|  1.50401E12|  101|        resign| black|         15+15| shivangithegenius|        1094|         slam_ment|        1300|e4 e5 Nf3 d6 Bc4 ...|        C41| Philidor Defense #3|          5|\n",
      "|x31mXlvc|false|1.50376E12|  1.50376E12|   25|        resign| white|          11+0|             g-ios|        1500| shivangithegenius|        1094|d4 d5 h3 Nc6 Nf3 ...|        D00|   Queen's Pawn Game|          2|\n",
      "+--------+-----+----------+------------+-----+--------------+------+--------------+------------------+------------+------------------+------------+--------------------+-----------+--------------------+-----------+\n",
      "only showing top 20 rows\n",
      "\n"
     ]
    }
   ],
   "source": [
    "data_frame = spark.read.csv('games.csv', header=True, inferSchema=True)\n",
    "data_frame.show()\n"
   ]
  },
  {
   "cell_type": "code",
   "execution_count": 4,
   "id": "f347f318",
   "metadata": {},
   "outputs": [
    {
     "name": "stdout",
     "output_type": "stream",
     "text": [
      "+--------+-----+----------+------------+-----+--------------+------+--------------+------------------+------------+------------------+------------+--------------------+-----------+--------------------+-----------+\n",
      "|      id|rated|created_at|last_move_at|turns|victory_status|winner|increment_code|          white_id|white_rating|          black_id|black_rating|               moves|opening_eco|        opening_name|opening_ply|\n",
      "+--------+-----+----------+------------+-----+--------------+------+--------------+------------------+------------+------------------+------------+--------------------+-----------+--------------------+-----------+\n",
      "|TZJHLljE|false|1.50421E12|  1.50421E12|   13|     outoftime| white|          15+2|          bourgris|        1500|              a-00|        1191|d4 d5 c4 c6 cxd5 ...|        D10|Slav Defense: Exc...|          5|\n",
      "|l1NXvwaE| true|1.50413E12|  1.50413E12|   16|        resign| black|          5+10|              a-00|        1322|         skinnerua|        1261|d4 Nc6 e4 e5 f4 f...|        B00|Nimzowitsch Defen...|          4|\n",
      "|mIICvQHh| true|1.50413E12|  1.50413E12|   61|          mate| white|          5+10|            ischia|        1496|              a-00|        1500|e4 e5 d3 d6 Be3 c...|        C20|King's Pawn Game:...|          3|\n",
      "|kWKvrqYL| true|1.50411E12|  1.50411E12|   61|          mate| white|          20+0|     daniamurashov|        1439|      adivanov2009|        1454|d4 d5 Nf3 Bf5 Nc3...|        D02|Queen's Pawn Game...|          3|\n",
      "|9tXo1AUZ| true|1.50403E12|  1.50403E12|   95|          mate| white|          30+3|         nik221107|        1523|      adivanov2009|        1469|e4 e5 Nf3 d6 d4 N...|        C41|    Philidor Defense|          5|\n",
      "|MsoDV9wj|false|1.50424E12|  1.50424E12|    5|          draw|  draw|          10+0|         trelynn17|        1250|     franklin14532|        1002|    e4 c5 Nf3 Qa5 a3|        B27|Sicilian Defense:...|          4|\n",
      "|qwU9rasv| true|1.50423E12|  1.50423E12|   33|        resign| white|          10+0|           capa_jr|        1520|daniel_likes_chess|        1423|d4 d5 e4 dxe4 Nc3...|        D00|Blackmar-Diemer G...|         10|\n",
      "|RVN0N3VK|false|1.50368E12|  1.50368E12|    9|        resign| black|         15+30|daniel_likes_chess|        1413|          soultego|        2108|e4 Nc6 d4 e5 d5 N...|        B00|Nimzowitsch Defen...|          5|\n",
      "|dwF3DJHO| true|1.50351E12|  1.50351E12|   66|        resign| black|          15+0|         ehabfanri|        1439|daniel_likes_chess|        1392|e4 e5 Bc4 Nc6 Nf3...|        C50|Italian Game: Sch...|          6|\n",
      "|afoMwnLg| true|1.50344E12|  1.50344E12|  119|          mate| white|          10+0|daniel_likes_chess|        1381|           mirco25|        1209|e4 d5 exd5 Qxd5 N...|        B01|Scandinavian Defe...|          4|\n",
      "|HgKLWPsz|false|1.50335E12|  1.50335E12|   39|          mate| white|         20+60|daniel_likes_chess|        1381|          anaissac|        1272|e3 e6 d4 d6 Bd3 c...|        A00|Van't Kruijs Opening|          1|\n",
      "|Vf5fKWzI|false|1.50335E12|  1.50335E12|   38|        resign| black|         20+60|daniel_likes_chess|        1381|         subham777|        1867|e4 e6 d4 d5 e5 c5...|        C02|French Defense: A...|          9|\n",
      "|HRti5mKv|false|1.50335E12|  1.50335E12|   60|        resign| black|          5+40|daniel_likes_chess|        1381|     roman12342005|        1936|e4 e6 Nf3 d5 exd5...|        C00|French Defense: K...|          3|\n",
      "|2fEjSei6|false|1.50334E12|  1.50334E12|   31|        resign| black|           8+0|daniel_likes_chess|        1381|            alkhan|        1607|e4 e6 Qh5 g6 Qe5 ...|        C00|   French Defense #2|          2|\n",
      "|u7i6dOaJ|false|1.50409E12|   1.5041E12|   31|          mate| white|         15+15| shivangithegenius|        1094|     sureka_akshat|        1141|e4 e5 Nf3 Nc6 Bc4...|        C50|Four Knights Game...|          8|\n",
      "|guanvMR5|false|1.50409E12|  1.50409E12|   43|        resign| black|         15+15|     sureka_akshat|        1141| shivangithegenius|        1094|e4 e5 Nf3 Nc6 Bc4...|        C57|Italian Game: Two...|          7|\n",
      "|PmpkWkmm|false|1.50409E12|  1.50409E12|   52|        resign| black|         15+15| shivangithegenius|        1094|     sureka_akshat|        1141|e4 e5 Nf3 Nc6 Bc4...|        C50|Four Knights Game...|          8|\n",
      "|EwaK0IsE|false|1.50401E12|  1.50401E12|   66|          mate| black|         15+16|     sureka_akshat|        1141| shivangithegenius|        1094|e4 e5 Nf3 Nc6 Bc4...|        C50|Four Knights Game...|          8|\n",
      "|yrSDozT3|false|1.50401E12|  1.50401E12|  101|        resign| black|         15+15| shivangithegenius|        1094|         slam_ment|        1300|e4 e5 Nf3 d6 Bc4 ...|        C41| Philidor Defense #3|          5|\n",
      "|x31mXlvc|false|1.50376E12|  1.50376E12|   25|        resign| white|          11+0|             g-ios|        1500| shivangithegenius|        1094|d4 d5 h3 Nc6 Nf3 ...|        D00|   Queen's Pawn Game|          2|\n",
      "+--------+-----+----------+------------+-----+--------------+------+--------------+------------------+------------+------------------+------------+--------------------+-----------+--------------------+-----------+\n",
      "only showing top 20 rows\n",
      "\n"
     ]
    }
   ],
   "source": [
    "\n",
    "data_frame.dropna(subset=('turns', 'victory_status')).show()"
   ]
  },
  {
   "cell_type": "markdown",
   "id": "e1aaffd9",
   "metadata": {},
   "source": [
    "#  Average number of turns for winning condition"
   ]
  },
  {
   "cell_type": "code",
   "execution_count": 5,
   "id": "8aa67c87",
   "metadata": {},
   "outputs": [
    {
     "name": "stdout",
     "output_type": "stream",
     "text": [
      "Average number of turns for winning condition\n",
      "+--------------+-----------------+\n",
      "|victory_status|       avg(turns)|\n",
      "+--------------+-----------------+\n",
      "|        resign|53.91253251996053|\n",
      "|     outoftime|72.74285714285715|\n",
      "|          mate|65.41501976284584|\n",
      "|          draw|83.78145695364239|\n",
      "+--------------+-----------------+\n",
      "\n"
     ]
    }
   ],
   "source": [
    "print(\"Average number of turns for winning condition\")\n",
    "victory_status = data_frame.groupBy('victory_status').agg({'turns': 'avg'})\n",
    "victory_status.show()"
   ]
  },
  {
   "cell_type": "code",
   "execution_count": 6,
   "id": "21e7df1d",
   "metadata": {},
   "outputs": [
    {
     "name": "stdout",
     "output_type": "stream",
     "text": [
      "+--------------+-----------------+\n",
      "|victory_status|       avg(turns)|\n",
      "+--------------+-----------------+\n",
      "|          mate|65.41501976284584|\n",
      "+--------------+-----------------+\n",
      "\n"
     ]
    }
   ],
   "source": [
    "victory_status.filter((victory_status['victory_status'] == 'mate')).show()"
   ]
  },
  {
   "cell_type": "markdown",
   "id": "be22fcfd",
   "metadata": {},
   "source": [
    "# Average rating of the player"
   ]
  },
  {
   "cell_type": "code",
   "execution_count": 7,
   "id": "eb008b6e",
   "metadata": {},
   "outputs": [
    {
     "name": "stdout",
     "output_type": "stream",
     "text": [
      "Average rating of the player\n",
      "+--------+-----+----------+------------+-----+--------------+------+--------------+------------------+------------+------------------+------------+--------------------+-----------+--------------------+-----------+\n",
      "|      id|rated|created_at|last_move_at|turns|victory_status|winner|increment_code|          white_id|white_rating|          black_id|black_rating|               moves|opening_eco|        opening_name|opening_ply|\n",
      "+--------+-----+----------+------------+-----+--------------+------+--------------+------------------+------------+------------------+------------+--------------------+-----------+--------------------+-----------+\n",
      "|TZJHLljE|false|1.50421E12|  1.50421E12|   13|     outoftime| white|          15+2|          bourgris|        1500|              a-00|        1191|d4 d5 c4 c6 cxd5 ...|        D10|Slav Defense: Exc...|          5|\n",
      "|l1NXvwaE| true|1.50413E12|  1.50413E12|   16|        resign| black|          5+10|              a-00|        1322|         skinnerua|        1261|d4 Nc6 e4 e5 f4 f...|        B00|Nimzowitsch Defen...|          4|\n",
      "|mIICvQHh| true|1.50413E12|  1.50413E12|   61|          mate| white|          5+10|            ischia|        1496|              a-00|        1500|e4 e5 d3 d6 Be3 c...|        C20|King's Pawn Game:...|          3|\n",
      "|kWKvrqYL| true|1.50411E12|  1.50411E12|   61|          mate| white|          20+0|     daniamurashov|        1439|      adivanov2009|        1454|d4 d5 Nf3 Bf5 Nc3...|        D02|Queen's Pawn Game...|          3|\n",
      "|9tXo1AUZ| true|1.50403E12|  1.50403E12|   95|          mate| white|          30+3|         nik221107|        1523|      adivanov2009|        1469|e4 e5 Nf3 d6 d4 N...|        C41|    Philidor Defense|          5|\n",
      "|MsoDV9wj|false|1.50424E12|  1.50424E12|    5|          draw|  draw|          10+0|         trelynn17|        1250|     franklin14532|        1002|    e4 c5 Nf3 Qa5 a3|        B27|Sicilian Defense:...|          4|\n",
      "|qwU9rasv| true|1.50423E12|  1.50423E12|   33|        resign| white|          10+0|           capa_jr|        1520|daniel_likes_chess|        1423|d4 d5 e4 dxe4 Nc3...|        D00|Blackmar-Diemer G...|         10|\n",
      "|RVN0N3VK|false|1.50368E12|  1.50368E12|    9|        resign| black|         15+30|daniel_likes_chess|        1413|          soultego|        2108|e4 Nc6 d4 e5 d5 N...|        B00|Nimzowitsch Defen...|          5|\n",
      "|dwF3DJHO| true|1.50351E12|  1.50351E12|   66|        resign| black|          15+0|         ehabfanri|        1439|daniel_likes_chess|        1392|e4 e5 Bc4 Nc6 Nf3...|        C50|Italian Game: Sch...|          6|\n",
      "|afoMwnLg| true|1.50344E12|  1.50344E12|  119|          mate| white|          10+0|daniel_likes_chess|        1381|           mirco25|        1209|e4 d5 exd5 Qxd5 N...|        B01|Scandinavian Defe...|          4|\n",
      "|HgKLWPsz|false|1.50335E12|  1.50335E12|   39|          mate| white|         20+60|daniel_likes_chess|        1381|          anaissac|        1272|e3 e6 d4 d6 Bd3 c...|        A00|Van't Kruijs Opening|          1|\n",
      "|Vf5fKWzI|false|1.50335E12|  1.50335E12|   38|        resign| black|         20+60|daniel_likes_chess|        1381|         subham777|        1867|e4 e6 d4 d5 e5 c5...|        C02|French Defense: A...|          9|\n",
      "|HRti5mKv|false|1.50335E12|  1.50335E12|   60|        resign| black|          5+40|daniel_likes_chess|        1381|     roman12342005|        1936|e4 e6 Nf3 d5 exd5...|        C00|French Defense: K...|          3|\n",
      "|2fEjSei6|false|1.50334E12|  1.50334E12|   31|        resign| black|           8+0|daniel_likes_chess|        1381|            alkhan|        1607|e4 e6 Qh5 g6 Qe5 ...|        C00|   French Defense #2|          2|\n",
      "|u7i6dOaJ|false|1.50409E12|   1.5041E12|   31|          mate| white|         15+15| shivangithegenius|        1094|     sureka_akshat|        1141|e4 e5 Nf3 Nc6 Bc4...|        C50|Four Knights Game...|          8|\n",
      "|guanvMR5|false|1.50409E12|  1.50409E12|   43|        resign| black|         15+15|     sureka_akshat|        1141| shivangithegenius|        1094|e4 e5 Nf3 Nc6 Bc4...|        C57|Italian Game: Two...|          7|\n",
      "|PmpkWkmm|false|1.50409E12|  1.50409E12|   52|        resign| black|         15+15| shivangithegenius|        1094|     sureka_akshat|        1141|e4 e5 Nf3 Nc6 Bc4...|        C50|Four Knights Game...|          8|\n",
      "|EwaK0IsE|false|1.50401E12|  1.50401E12|   66|          mate| black|         15+16|     sureka_akshat|        1141| shivangithegenius|        1094|e4 e5 Nf3 Nc6 Bc4...|        C50|Four Knights Game...|          8|\n",
      "|yrSDozT3|false|1.50401E12|  1.50401E12|  101|        resign| black|         15+15| shivangithegenius|        1094|         slam_ment|        1300|e4 e5 Nf3 d6 Bc4 ...|        C41| Philidor Defense #3|          5|\n",
      "|x31mXlvc|false|1.50376E12|  1.50376E12|   25|        resign| white|          11+0|             g-ios|        1500| shivangithegenius|        1094|d4 d5 h3 Nc6 Nf3 ...|        D00|   Queen's Pawn Game|          2|\n",
      "+--------+-----+----------+------------+-----+--------------+------+--------------+------------------+------------+------------------+------------+--------------------+-----------+--------------------+-----------+\n",
      "only showing top 20 rows\n",
      "\n"
     ]
    }
   ],
   "source": [
    "print(\"Average rating of the player\")\n",
    "player_average = data_frame.dropna(subset=('white_id', 'black_id', 'white_rating', 'white_rating', 'black_rating'))\n",
    "player_average.show()"
   ]
  },
  {
   "cell_type": "code",
   "execution_count": 8,
   "id": "3ecefe9a",
   "metadata": {},
   "outputs": [
    {
     "name": "stdout",
     "output_type": "stream",
     "text": [
      "+-------------------+---------------+-----------------+-----------------+\n",
      "|           white_id|       black_id|avg(black_rating)|avg(white_rating)|\n",
      "+-------------------+---------------+-----------------+-----------------+\n",
      "|           oldpaths|rubberchicken04|           1596.0|           1561.0|\n",
      "|           oldpaths|         fcolpo|           1470.0|           1579.0|\n",
      "|               cdvh|     capito2017|           1958.0|           1724.0|\n",
      "|            pune123|         sassou|           1204.0|           1443.0|\n",
      "|          dbschultz|     nienkotter|           1358.0|           1500.0|\n",
      "|            decky84|  roman12342005|           1929.0|           1758.0|\n",
      "|          garib33gg|theanonymousone|           1332.0|           1224.0|\n",
      "|mrphaseolusvulgaris|           cmcc|           1500.0|           1712.0|\n",
      "|            filanif|      joe-brown|            925.0|           1214.0|\n",
      "|              majek|       mikiduda|           1385.0|           1102.0|\n",
      "|           dsom1234|         dead23|           1294.0|           2118.0|\n",
      "|           rezuan13|      masterzyd|           1321.0|           1303.0|\n",
      "|            smm1347|    bischopscup|           1284.0|           2003.0|\n",
      "|            saeed65|      kostyarik|           1629.0|           1709.0|\n",
      "|             vlepac|fandm-lancaster|           1265.0|           1790.0|\n",
      "|           arda2828|         mano07|           1525.0|           1645.0|\n",
      "|           kakhoofd|        zzeljko|           1827.0|           1500.0|\n",
      "|             smalex|damastaodisasta|           2173.0|           2285.0|\n",
      "|    shevchenko_vlad|        pal2310|           1722.0|           1674.0|\n",
      "|            chees29|      brane1974|           1458.0|           1500.0|\n",
      "+-------------------+---------------+-----------------+-----------------+\n",
      "only showing top 20 rows\n",
      "\n"
     ]
    }
   ],
   "source": [
    "player_average.groupBy('white_id', 'black_id').agg({'white_rating': 'avg', 'black_rating': 'avg'}).show()"
   ]
  },
  {
   "cell_type": "markdown",
   "id": "e80683f7",
   "metadata": {},
   "source": [
    "# Average time to finish the game"
   ]
  },
  {
   "cell_type": "code",
   "execution_count": 9,
   "id": "830288af",
   "metadata": {},
   "outputs": [
    {
     "name": "stdout",
     "output_type": "stream",
     "text": [
      "Average time to finish the game: \n",
      "+--------------+--------------------+--------------------+\n",
      "|victory_status|   avg(last_move_at)|     avg(created_at)|\n",
      "+--------------+--------------------+--------------------+\n",
      "|        resign|1.484248735299182...|1.484247937812193E12|\n",
      "|     outoftime|1.481290611443147...|1.481289290488460...|\n",
      "|          mate|1.482697338666147...|1.482696538851454...|\n",
      "|          draw|1.486594622461898...|1.486593213008563E12|\n",
      "+--------------+--------------------+--------------------+\n",
      "\n"
     ]
    }
   ],
   "source": [
    "print(\"Average time to finish the game: \")\n",
    "data_frame.groupBy('victory_status').agg({'created_at': 'avg', 'last_move_at': 'avg'}).show()"
   ]
  },
  {
   "cell_type": "code",
   "execution_count": null,
   "id": "7404634e",
   "metadata": {},
   "outputs": [],
   "source": []
  }
 ],
 "metadata": {
  "kernelspec": {
   "display_name": "Python 3 (ipykernel)",
   "language": "python",
   "name": "python3"
  },
  "language_info": {
   "codemirror_mode": {
    "name": "ipython",
    "version": 3
   },
   "file_extension": ".py",
   "mimetype": "text/x-python",
   "name": "python",
   "nbconvert_exporter": "python",
   "pygments_lexer": "ipython3",
   "version": "3.8.0"
  }
 },
 "nbformat": 4,
 "nbformat_minor": 5
}
