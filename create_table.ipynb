{
 "cells": [
  {
   "cell_type": "code",
   "execution_count": 1,
   "id": "2dc209d7",
   "metadata": {},
   "outputs": [],
   "source": [
    "# importing the mysql connector module\n",
    "import mysql.connector\n",
    "# importing logging module\n",
    "import logging"
   ]
  },
  {
   "cell_type": "code",
   "execution_count": 2,
   "id": "8cca2769",
   "metadata": {},
   "outputs": [],
   "source": [
    "log_format = \"%(levelname)s %(asctime)s - %(message)s\"\n",
    "logging.basicConfig(filename=\"table_create.log\",\n",
    "                    level=logging.INFO,\n",
    "                    format=log_format,\n",
    "                    datefmt=\"%d/%m/%y %I:%M:%S:%p\")\n",
    "logging.info(\"New  table create request came !\")"
   ]
  },
  {
   "cell_type": "code",
   "execution_count": 3,
   "id": "c7d39b29",
   "metadata": {},
   "outputs": [],
   "source": [
    "# establishing the connection between python programme and mysql database\n",
    "my_connection = mysql.connector.connect(host=\"localhost\",\n",
    "                                        user=\"root\",\n",
    "                                        passwd=\"root\",\n",
    "                                        database=\"mydatabase\")\n",
    "# creating cursor object to execute queries\n",
    "my_cursor = my_connection.cursor()"
   ]
  },
  {
   "cell_type": "code",
   "execution_count": 4,
   "id": "0e3340fb",
   "metadata": {},
   "outputs": [
    {
     "name": "stdout",
     "output_type": "stream",
     "text": [
      "Table was created successfully.....!\n",
      "Tables list :\n",
      "('customer',)\n",
      "('products',)\n",
      "('serverlogs',)\n",
      " connection closed....!\n"
     ]
    }
   ],
   "source": [
    "\n",
    "try:\n",
    "    # executing the query by using cursor object\n",
    "    my_cursor.execute(\"CREATE TABLE serverlogs (id INT AUTO_INCREMENT PRIMARY KEY , server VARCHAR(100), hour INT , application INT , success INT , error INT)\")\n",
    "    print(\"Table was created successfully.....!\")\n",
    "    \n",
    "# if table already exists we get exception\n",
    "except Exception as message:\n",
    "    print(message)\n",
    "    logging.warning(message)\n",
    "\n",
    "finally:\n",
    "    # displaying tables list in the database\n",
    "    my_cursor.execute(\"SHOW TABLES\")\n",
    "    print(\"Tables list :\")\n",
    "    for table in my_cursor:\n",
    "        print(table)\n",
    "\n",
    "    # closing the connection\n",
    "    my_connection.close()\n",
    "    print(\" connection closed....!\")"
   ]
  },
  {
   "cell_type": "code",
   "execution_count": null,
   "id": "01cb5253",
   "metadata": {},
   "outputs": [],
   "source": []
  }
 ],
 "metadata": {
  "kernelspec": {
   "display_name": "Python 3 (ipykernel)",
   "language": "python",
   "name": "python3"
  },
  "language_info": {
   "codemirror_mode": {
    "name": "ipython",
    "version": 3
   },
   "file_extension": ".py",
   "mimetype": "text/x-python",
   "name": "python",
   "nbconvert_exporter": "python",
   "pygments_lexer": "ipython3",
   "version": "3.8.0"
  }
 },
 "nbformat": 4,
 "nbformat_minor": 5
}
